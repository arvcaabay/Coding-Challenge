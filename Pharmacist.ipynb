{
 "cells": [
  {
   "cell_type": "code",
   "execution_count": 1,
   "id": "8d85bfe4",
   "metadata": {},
   "outputs": [
    {
     "name": "stdout",
     "output_type": "stream",
     "text": [
      "Defaulting to user installation because normal site-packages is not writeableNote: you may need to restart the kernel to use updated packages.\n",
      "\n",
      "Requirement already satisfied: requests in c:\\programdata\\anaconda3\\lib\\site-packages (2.31.0)\n",
      "Requirement already satisfied: charset-normalizer<4,>=2 in c:\\programdata\\anaconda3\\lib\\site-packages (from requests) (2.0.4)\n",
      "Requirement already satisfied: idna<4,>=2.5 in c:\\programdata\\anaconda3\\lib\\site-packages (from requests) (3.4)\n",
      "Requirement already satisfied: urllib3<3,>=1.21.1 in c:\\programdata\\anaconda3\\lib\\site-packages (from requests) (1.26.16)\n",
      "Requirement already satisfied: certifi>=2017.4.17 in c:\\programdata\\anaconda3\\lib\\site-packages (from requests) (2023.7.22)\n"
     ]
    }
   ],
   "source": [
    "pip install requests"
   ]
  },
  {
   "cell_type": "code",
   "execution_count": 2,
   "id": "4c33763b",
   "metadata": {},
   "outputs": [
    {
     "name": "stdout",
     "output_type": "stream",
     "text": [
      "Defaulting to user installation because normal site-packages is not writeable\n",
      "Requirement already satisfied: beautifulsoup4 in c:\\programdata\\anaconda3\\lib\\site-packages (4.12.2)\n",
      "Requirement already satisfied: soupsieve>1.2 in c:\\programdata\\anaconda3\\lib\\site-packages (from beautifulsoup4) (2.4)\n",
      "Note: you may need to restart the kernel to use updated packages.\n"
     ]
    }
   ],
   "source": [
    "pip install beautifulsoup4"
   ]
  },
  {
   "cell_type": "code",
   "execution_count": 3,
   "id": "c856ff15",
   "metadata": {},
   "outputs": [],
   "source": [
    "import requests"
   ]
  },
  {
   "cell_type": "code",
   "execution_count": 76,
   "id": "698f687f",
   "metadata": {},
   "outputs": [],
   "source": [
    "from bs4 import BeautifulSoup\n",
    "import time\n",
    "import csv"
   ]
  },
  {
   "cell_type": "code",
   "execution_count": 79,
   "id": "2d9dde88",
   "metadata": {},
   "outputs": [
    {
     "name": "stdout",
     "output_type": "stream",
     "text": [
      "Enter the 1st letter of the last name: L\n"
     ]
    }
   ],
   "source": [
    "source = 'https://idbop.mylicense.com/verification/SearchResults.aspx'\n",
    "last_name_first_letter = input (\"Enter the 1st letter of the last name: \")"
   ]
  },
  {
   "cell_type": "code",
   "execution_count": 80,
   "id": "3fb9e4a2",
   "metadata": {
    "scrolled": true
   },
   "outputs": [
    {
     "name": "stdout",
     "output_type": "stream",
     "text": [
      "Failed to retrieve data\n",
      "No Phamacist found\n"
     ]
    }
   ],
   "source": [
    "def scrape_pharmacists(source, last_name_first_letter):\n",
    "    try:\n",
    "        response = requests.get(source)\n",
    "        response.raise_for_status()\n",
    "    except requests.exceptions.RequestException as e:\n",
    "        print(\"Failed to retrieve data\")\n",
    "        return[]\n",
    "\n",
    "    soup = BeautifulSoup(response.content,'html.parser')\n",
    "    tables = soup.find_all('table')\n",
    "    pharmacist_data = []\n",
    "\n",
    "    for table in tables:\n",
    "        rows = table.find_all('tr')\n",
    "        for row in rows:\n",
    "            cells = row.find_all('td')\n",
    "            if len(cells) >=6:\n",
    "                first_name, middle_name, last_name = cells[0],text.strip().split(maxplit=2)\n",
    "                license_number = cells[1].text.strip()\n",
    "                license_type = cells [2].text.strip()\n",
    "                status = cells [3].text.strip()\n",
    "                original_issued_date = cells [4].text.strip()\n",
    "                expiry = cells [5].text.strip()\n",
    "                renewed = \"Yes\" if cells [6].text.strip() else \"No\"\n",
    "            \n",
    "                if last_name.startswith(last_name_first_letter):\n",
    "                    pharmacist_data.append({\n",
    "                        'First Name': first_name,\n",
    "                        'Middle Name': middle_name,\n",
    "                        'Last Name': last_name,\n",
    "                        'License Number': license_number,\n",
    "                        'License Type': license_type,\n",
    "                        'Status': status,\n",
    "                        'Original Issued date': original_issued_date,\n",
    "                        'Expiry': expiry,\n",
    "                        'Renewed': renewed})\n",
    "                \n",
    "    return pharmacist_data\n",
    "\n",
    "def write_to_csv(data, filename):\n",
    "        headers = ['First Name', 'Middle Name','Last Name', 'License Number', 'License Type', 'Status', 'Original Issued date', 'Expiry','Renewed']\n",
    "        with open(filename, 'w', newline=' ') as csvfile:\n",
    "            writer = csv.DictWriter(csvfile, fieldnames=headers)\n",
    "            writer.writeheader()\n",
    "            for row in data:\n",
    "                writer.writerow(row)\n",
    "\n",
    "pharmacists = scrape_pharmacists(source, last_name_first_letter)\n",
    "if pharmacists:\n",
    "        write_to_csv(pharmacists, 'pharmacist.csv')\n",
    "        print(\"Date has been scraped\")\n",
    "else:\n",
    "        print(\"No Phamacist found\")"
   ]
  },
  {
   "cell_type": "code",
   "execution_count": 70,
   "id": "586667ad",
   "metadata": {},
   "outputs": [],
   "source": []
  },
  {
   "cell_type": "code",
   "execution_count": null,
   "id": "62b54d48",
   "metadata": {},
   "outputs": [],
   "source": []
  },
  {
   "cell_type": "code",
   "execution_count": null,
   "id": "c239b1be",
   "metadata": {},
   "outputs": [],
   "source": []
  },
  {
   "cell_type": "code",
   "execution_count": null,
   "id": "b4addcf1",
   "metadata": {},
   "outputs": [],
   "source": []
  }
 ],
 "metadata": {
  "kernelspec": {
   "display_name": "Python 3 (ipykernel)",
   "language": "python",
   "name": "python3"
  },
  "language_info": {
   "codemirror_mode": {
    "name": "ipython",
    "version": 3
   },
   "file_extension": ".py",
   "mimetype": "text/x-python",
   "name": "python",
   "nbconvert_exporter": "python",
   "pygments_lexer": "ipython3",
   "version": "3.11.4"
  }
 },
 "nbformat": 4,
 "nbformat_minor": 5
}
